{
  "nbformat": 4,
  "nbformat_minor": 0,
  "metadata": {
    "colab": {
      "name": "CoronaTweetsNLP.ipynb",
      "provenance": [],
      "collapsed_sections": [],
      "toc_visible": true,
      "include_colab_link": true
    },
    "kernelspec": {
      "name": "python3",
      "display_name": "Python 3"
    }
  },
  "cells": [
    {
      "cell_type": "markdown",
      "metadata": {
        "id": "view-in-github",
        "colab_type": "text"
      },
      "source": [
        "<a href=\"https://colab.research.google.com/github/surya-varathan/Tweet-Classification/blob/master/CoronaTweetsNLP.ipynb\" target=\"_parent\"><img src=\"https://colab.research.google.com/assets/colab-badge.svg\" alt=\"Open In Colab\"/></a>"
      ]
    },
    {
      "cell_type": "markdown",
      "metadata": {
        "id": "SJtkzkbu32vK",
        "colab_type": "text"
      },
      "source": [
        "# Information Classification from Social Media during an epidemic"
      ]
    },
    {
      "cell_type": "markdown",
      "metadata": {
        "id": "cLfMufxw4Kzl",
        "colab_type": "text"
      },
      "source": [
        "#Import Libraries "
      ]
    },
    {
      "cell_type": "code",
      "metadata": {
        "id": "PF_BLctzu_EP",
        "colab_type": "code",
        "outputId": "95e6b747-fafb-4df8-ccd0-9a3c36919cb8",
        "colab": {
          "base_uri": "https://localhost:8080/",
          "height": 108
        }
      },
      "source": [
        "import matplotlib.pyplot as plt\n",
        "import pandas as pd\n",
        "import numpy as np\n",
        "import seaborn as sns\n",
        "import nltk\n",
        "\n",
        "# Natural Language Processing\n",
        "from nltk.tokenize import word_tokenize\n",
        "from sklearn.feature_extraction import stop_words\n",
        "from sklearn.feature_extraction.text import CountVectorizer, TfidfVectorizer\n",
        "from sklearn.metrics import classification_report\n",
        "from nltk.corpus import stopwords\n",
        "\n",
        "# Modeling\n",
        "from sklearn.linear_model import LogisticRegression\n",
        "from sklearn.model_selection import train_test_split, GridSearchCV\n",
        "from sklearn.preprocessing import LabelEncoder\n",
        "from sklearn.pipeline import Pipeline\n",
        "from sklearn.naive_bayes import MultinomialNB\n",
        "from sklearn import metrics\n",
        "from sklearn.metrics import accuracy_score, recall_score, precision_score, confusion_matrix\n",
        "\n",
        "nltk.download('punkt')\n",
        "nltk.download('stopwords')"
      ],
      "execution_count": 0,
      "outputs": [
        {
          "output_type": "stream",
          "text": [
            "[nltk_data] Downloading package punkt to /root/nltk_data...\n",
            "[nltk_data]   Package punkt is already up-to-date!\n",
            "[nltk_data] Downloading package stopwords to /root/nltk_data...\n",
            "[nltk_data]   Package stopwords is already up-to-date!\n"
          ],
          "name": "stdout"
        },
        {
          "output_type": "execute_result",
          "data": {
            "text/plain": [
              "True"
            ]
          },
          "metadata": {
            "tags": []
          },
          "execution_count": 4
        }
      ]
    },
    {
      "cell_type": "markdown",
      "metadata": {
        "id": "1j90zvDX4UDJ",
        "colab_type": "text"
      },
      "source": [
        "#Data Cleaning function\n"
      ]
    },
    {
      "cell_type": "code",
      "metadata": {
        "id": "-si8vL20DNwc",
        "colab_type": "code",
        "colab": {}
      },
      "source": [
        "def clean_data(dataframe):\n",
        "\n",
        "    # Drop duplicate rows\n",
        "    dataframe.drop_duplicates(subset='tweet', inplace=True)\n",
        "    \n",
        "    # Drop Null entries\n",
        "    dataframe.dropna(inplace=True)\n",
        "\n",
        "    # Transform all text to lowercase\n",
        "    dataframe['tweet'] = dataframe['tweet'].str.lower()\n",
        "    \n",
        "    # Remove punctation\n",
        "    dataframe['tweet'] = dataframe['tweet'].str.replace('[^\\w\\s]',' ')\n",
        "\n",
        "    # Remove numbers \n",
        "    dataframe['tweet'] = dataframe['tweet'].str.replace('[^A-Za-z]',' ')\n",
        "\n",
        "    # Make sure any double-spaces are single \n",
        "    dataframe['tweet'] = dataframe['tweet'].str.replace('  ',' ')\n",
        "    dataframe['tweet'] = dataframe['tweet'].str.replace('  ',' ')\n",
        "\n",
        "    return dataframe"
      ],
      "execution_count": 0,
      "outputs": []
    },
    {
      "cell_type": "markdown",
      "metadata": {
        "id": "iGzxMFpQ4ruI",
        "colab_type": "text"
      },
      "source": [
        "##Importing data and cleaning"
      ]
    },
    {
      "cell_type": "code",
      "metadata": {
        "id": "QOcO-dvVDWgh",
        "colab_type": "code",
        "outputId": "f00965e6-58de-49cb-b1fb-685b6ce24cb8",
        "colab": {
          "base_uri": "https://localhost:8080/",
          "height": 126
        }
      },
      "source": [
        "df = pd.read_csv('TweetsDataset.csv')\n",
        "clean_data(df)\n",
        "df.drop(columns=['id'], inplace = True)\n",
        "print(\"Data shape: \",df.shape)\n",
        "print(df['label'].value_counts())"
      ],
      "execution_count": 0,
      "outputs": [
        {
          "output_type": "stream",
          "text": [
            "Data shape:  (921, 2)\n",
            "Irrelevant    427\n",
            "Report        285\n",
            "Awareness     137\n",
            "Treatment      72\n",
            "Name: label, dtype: int64\n"
          ],
          "name": "stdout"
        }
      ]
    },
    {
      "cell_type": "markdown",
      "metadata": {
        "id": "PpanRx9Fi1mF",
        "colab_type": "text"
      },
      "source": [
        "###Upsampling for the lowest two classes\n",
        " "
      ]
    },
    {
      "cell_type": "code",
      "metadata": {
        "id": "hIawYlH_aQac",
        "colab_type": "code",
        "outputId": "0e033626-5bfa-4799-c7d0-f72b53b7855a",
        "colab": {
          "base_uri": "https://localhost:8080/",
          "height": 108
        }
      },
      "source": [
        "from sklearn.utils import resample\n",
        "df_treatment = df[df['label']=='Treatment']\n",
        "df_awareness = df[df['label']=='Awareness']\n",
        "df_others = df[df['label']!='Treatment']\n",
        "df_upsampled_t = resample(df_treatment,replace = True,n_samples = 250, random_state=42)\n",
        "df_upsampled_a = resample(df_awareness,replace = True,n_samples = 220, random_state=42)\n",
        "df = pd.concat([df_others,df_upsampled_t,df_upsampled_a])\n",
        "print(df['label'].value_counts())"
      ],
      "execution_count": 0,
      "outputs": [
        {
          "output_type": "stream",
          "text": [
            "Irrelevant    427\n",
            "Awareness     357\n",
            "Report        285\n",
            "Treatment     250\n",
            "Name: label, dtype: int64\n"
          ],
          "name": "stdout"
        }
      ]
    },
    {
      "cell_type": "code",
      "metadata": {
        "id": "mQ3-KjNkoAdp",
        "colab_type": "code",
        "outputId": "715e7d99-2757-43d1-f5e5-6c82d6dd2220",
        "colab": {
          "base_uri": "https://localhost:8080/",
          "height": 925
        }
      },
      "source": [
        "tweet = df['tweet'].str.cat(sep=' ')\n",
        "tweet = tweet.lower()\n",
        "tokens = word_tokenize(tweet)\n",
        "stop_words = set(stopwords.words('english'))\n",
        "tokens = [w for w in tokens if not w in stop_words and w.isalpha()]\n",
        "vocabulary = set(tokens)\n",
        "frequency_dist = nltk.FreqDist(tokens)\n",
        "sorted(frequency_dist,key=frequency_dist.__getitem__, reverse=True)[0:50]"
      ],
      "execution_count": 0,
      "outputs": [
        {
          "output_type": "execute_result",
          "data": {
            "text/plain": [
              "['covid',\n",
              " 'coronavirus',\n",
              " 'people',\n",
              " 'us',\n",
              " 'cases',\n",
              " 'new',\n",
              " 'spread',\n",
              " 'virus',\n",
              " 'treatment',\n",
              " 'health',\n",
              " 'home',\n",
              " 'today',\n",
              " 'positive',\n",
              " 'tested',\n",
              " 'help',\n",
              " 'need',\n",
              " 'days',\n",
              " 'stay',\n",
              " 'time',\n",
              " 'patients',\n",
              " 'remdesivir',\n",
              " 'test',\n",
              " 'get',\n",
              " 'breaking',\n",
              " 'take',\n",
              " 'one',\n",
              " 'please',\n",
              " 'pandemic',\n",
              " 'testing',\n",
              " 'trump',\n",
              " 'symptoms',\n",
              " 'news',\n",
              " 'like',\n",
              " 'social',\n",
              " 'first',\n",
              " 'coronavirusoutbreak',\n",
              " 'must',\n",
              " 'protect',\n",
              " 'everyone',\n",
              " 'public',\n",
              " 'vaccine',\n",
              " 'fight',\n",
              " 'cure',\n",
              " 'emergency',\n",
              " 'medical',\n",
              " 'china',\n",
              " 'trial',\n",
              " 'support',\n",
              " 'pm',\n",
              " 'show']"
            ]
          },
          "metadata": {
            "tags": []
          },
          "execution_count": 8
        }
      ]
    },
    {
      "cell_type": "markdown",
      "metadata": {
        "id": "Tou5c0Va5hha",
        "colab_type": "text"
      },
      "source": [
        "###A visual representation of the vocabulary scaled to frequency"
      ]
    },
    {
      "cell_type": "code",
      "metadata": {
        "id": "2-2BsW13oJpO",
        "colab_type": "code",
        "outputId": "d9463c82-af4e-450d-cf7f-d7416bbcfd34",
        "colab": {
          "base_uri": "https://localhost:8080/",
          "height": 198
        }
      },
      "source": [
        "from wordcloud import WordCloud\n",
        "import matplotlib.pyplot as plt\n",
        "wordcloud = WordCloud().generate_from_frequencies(frequency_dist)\n",
        "plt.imshow(wordcloud)\n",
        "plt.axis(\"off\")\n",
        "plt.show()"
      ],
      "execution_count": 0,
      "outputs": [
        {
          "output_type": "display_data",
          "data": {
            "image/png": "[encoded data removed]",
            "text/plain": [
              "<Figure size 432x288 with 1 Axes>"
            ]
          },
          "metadata": {
            "tags": [],
            "needs_background": "light"
          }
        }
      ]
    },
    {
      "cell_type": "markdown",
      "metadata": {
        "id": "iK84mwzl5q54",
        "colab_type": "text"
      },
      "source": [
        "## Customised Bar Plot Function"
      ]
    },
    {
      "cell_type": "code",
      "metadata": {
        "id": "tUXu4ii1J8P1",
        "colab_type": "code",
        "colab": {}
      },
      "source": [
        "def bar_plot(x, y, title, color):    \n",
        "    \n",
        "    # Set up barplot \n",
        "    plt.figure(figsize=(9,5))\n",
        "    g = sns.barplot(x, y, color = color)    \n",
        "    ax=g\n",
        "\n",
        "    # Label the graph\n",
        "    plt.title(title, fontsize = 15)\n",
        "    plt.xticks(fontsize = 10)\n",
        "\n",
        "    # Enable bar values\n",
        "    # create a list to collect the plt.patches data\n",
        "    totals = []\n",
        "\n",
        "    # find the values and append to list\n",
        "    for p in ax.patches:\n",
        "        totals.append(p.get_width())\n",
        "\n",
        "    # set individual bar lables using above list\n",
        "    total = sum(totals)\n",
        "\n",
        "    # set individual bar lables using above list\n",
        "    for p in ax.patches:\n",
        "        # get_width pulls left or right; get_y pushes up or down\n",
        "        ax.text(p.get_width()+.3, p.get_y()+.38, \\\n",
        "                int(p.get_width()), fontsize=10)"
      ],
      "execution_count": 0,
      "outputs": []
    },
    {
      "cell_type": "markdown",
      "metadata": {
        "id": "zXs21TWq51FW",
        "colab_type": "text"
      },
      "source": [
        "Changing the tag notation from string to numeric"
      ]
    },
    {
      "cell_type": "code",
      "metadata": {
        "id": "UKhc-893FI2_",
        "colab_type": "code",
        "outputId": "c2c881ec-24d8-45c4-de7b-7406d3d2812b",
        "colab": {
          "base_uri": "https://localhost:8080/",
          "height": 53
        }
      },
      "source": [
        " my_tags = ['Awareness', 'Irrelevant', 'Report', 'Treatment']\n",
        "Encoder = LabelEncoder()\n",
        "df['label'] = Encoder.fit_transform(df['label'])\n",
        "print(df['label'].unique())\n",
        "name_mapping = dict(zip(Encoder.classes_, Encoder.transform(Encoder.classes_)))\n",
        "print(name_mapping)\n"
      ],
      "execution_count": 0,
      "outputs": [
        {
          "output_type": "stream",
          "text": [
            "[0 1 2 3]\n",
            "{'Awareness': 0, 'Irrelevant': 1, 'Report': 2, 'Treatment': 3}\n"
          ],
          "name": "stdout"
        }
      ]
    },
    {
      "cell_type": "markdown",
      "metadata": {
        "id": "B61h2wYSJ8QW",
        "colab_type": "text"
      },
      "source": [
        "# Natural Language Processing (NLP)"
      ]
    },
    {
      "cell_type": "markdown",
      "metadata": {
        "id": "TzzqNO-MJ8QX",
        "colab_type": "text"
      },
      "source": [
        "###Using Count Vectorizer  explore the most used words and combinations of words from each category "
      ]
    },
    {
      "cell_type": "markdown",
      "metadata": {
        "id": "q8RMud9d_y0-",
        "colab_type": "text"
      },
      "source": [
        "###**Ngram Range = (1,1)**"
      ]
    },
    {
      "cell_type": "markdown",
      "metadata": {
        "id": "bcWdDy-Z9k58",
        "colab_type": "text"
      },
      "source": [
        "*   For the Awareness label"
      ]
    },
    {
      "cell_type": "code",
      "metadata": {
        "id": "Oc1ffu9_J8Qw",
        "colab_type": "code",
        "outputId": "32cf4099-b868-422f-d43b-0a1c16cbcffd",
        "colab": {
          "base_uri": "https://localhost:8080/",
          "height": 35
        }
      },
      "source": [
        "mask_no = df['label'] == 0\n",
        "awareness_tweets = df[mask_no]['tweet']\n",
        "\n",
        "# Instantiate a CountVectorizer = CountVectorizer(stop_words = 'english')\n",
        "cv_awareness = CountVectorizer(stop_words = 'english')\n",
        "\n",
        "# Fit and transform the vectorizer on our corpus\n",
        "cvec_awareness = cv_awareness.fit_transform(awareness_tweets)\n",
        "\n",
        "# Convert into a DataFrame\n",
        "cvec_awareness_df = pd.DataFrame(cvec_awareness.toarray(),columns=cv_awareness.get_feature_names())\n",
        "\n",
        "# Inspect head \n",
        "print(cvec_awareness_df.shape) "
      ],
      "execution_count": 0,
      "outputs": [
        {
          "output_type": "stream",
          "text": [
            "(357, 1228)\n"
          ],
          "name": "stdout"
        }
      ]
    },
    {
      "cell_type": "markdown",
      "metadata": {
        "colab_type": "text",
        "id": "BHFob0U7909h"
      },
      "source": [
        "*    For the report label\n",
        "\n",
        "\n"
      ]
    },
    {
      "cell_type": "code",
      "metadata": {
        "colab_type": "code",
        "outputId": "c085448b-62ee-4374-8d28-512d4cecbb98",
        "id": "9KVnzugsK86x",
        "colab": {
          "base_uri": "https://localhost:8080/",
          "height": 35
        }
      },
      "source": [
        "mask_no = df['label'] == 2\n",
        "report_tweets = df[mask_no]['tweet']\n",
        "\n",
        "# Instantiate a CountVectorizer\n",
        "cv_report = CountVectorizer(stop_words = 'english')\n",
        "\n",
        "# Fit and transform the vectorizer on our corpus\n",
        "cvec_report = cv_report.fit_transform(report_tweets)\n",
        "\n",
        "# Convert into a DataFrame\n",
        "cvec_report_df = pd.DataFrame(cvec_report.toarray(),\n",
        "                   columns=cv_report.get_feature_names())\n",
        "\n",
        "# Inspect head \n",
        "print(cvec_report_df.shape)"
      ],
      "execution_count": 0,
      "outputs": [
        {
          "output_type": "stream",
          "text": [
            "(285, 2335)\n"
          ],
          "name": "stdout"
        }
      ]
    },
    {
      "cell_type": "markdown",
      "metadata": {
        "colab_type": "text",
        "id": "FC1Da91_96DG"
      },
      "source": [
        "\n",
        "*   For the Treatment label\n",
        "\n"
      ]
    },
    {
      "cell_type": "code",
      "metadata": {
        "id": "ztsin23IJ8Q2",
        "colab_type": "code",
        "outputId": "a2fc1873-bb9d-41ee-da0c-8439eb12077d",
        "colab": {
          "base_uri": "https://localhost:8080/",
          "height": 35
        }
      },
      "source": [
        "mask_no = df['label'] == 3\n",
        "treatment_tweets = df[mask_no]['tweet']\n",
        "\n",
        "# Instantiate a CountVectorizer\n",
        "cv_treatment = CountVectorizer(stop_words = 'english')\n",
        "\n",
        "# Fit and transform the vectorizer on our corpus\n",
        "cvec_treatment = cv_treatment.fit_transform(treatment_tweets)\n",
        "\n",
        "# Convert into a DataFrame\n",
        "cvec_treatment_df = pd.DataFrame(cvec_treatment.toarray(),\n",
        "                   columns=cv_treatment.get_feature_names())\n",
        "\n",
        "# Inspect head \n",
        "print(cvec_treatment_df.shape)"
      ],
      "execution_count": 0,
      "outputs": [
        {
          "output_type": "stream",
          "text": [
            "(250, 811)\n"
          ],
          "name": "stdout"
        }
      ]
    },
    {
      "cell_type": "markdown",
      "metadata": {
        "colab_type": "text",
        "id": "dvxDcSv__DzV"
      },
      "source": [
        "\n",
        "*   For the Irrelevant label\n",
        "\n"
      ]
    },
    {
      "cell_type": "code",
      "metadata": {
        "colab_type": "code",
        "outputId": "c6557fc1-c7cd-46f1-fc93-f9504a219d79",
        "id": "ESDtx4POK8NI",
        "colab": {
          "base_uri": "https://localhost:8080/",
          "height": 35
        }
      },
      "source": [
        "mask_no = df['label'] == 1\n",
        "irrelevant_tweets = df[mask_no]['tweet']\n",
        "\n",
        "# Instantiate a CountVectorizer\n",
        "cv_irrelevant = CountVectorizer(stop_words = 'english')\n",
        "\n",
        "# Fit and transform the vectorizer on our corpus\n",
        "cvec_irrelevant = cv_irrelevant.fit_transform(irrelevant_tweets)\n",
        "\n",
        "# Convert into a DataFrame\n",
        "cvec_irrelevant_df = pd.DataFrame(cvec_irrelevant.toarray(),\n",
        "                   columns=cv_irrelevant.get_feature_names())\n",
        "\n",
        "# Inspect head \n",
        "print(cvec_irrelevant_df.shape)"
      ],
      "execution_count": 0,
      "outputs": [
        {
          "output_type": "stream",
          "text": [
            "(427, 3198)\n"
          ],
          "name": "stdout"
        }
      ]
    },
    {
      "cell_type": "markdown",
      "metadata": {
        "id": "pvEM4fLj_PdP",
        "colab_type": "text"
      },
      "source": [
        "## Set up variables to figure out top 10 unigrams in Each label"
      ]
    },
    {
      "cell_type": "code",
      "metadata": {
        "id": "auFD8gqUQs1c",
        "colab_type": "code",
        "outputId": "79cafaea-344a-425a-ad39-a0b2ddf0afe4",
        "colab": {
          "base_uri": "https://localhost:8080/",
          "height": 338
        }
      },
      "source": [
        "#Awareness Label\n",
        "wc_A = cvec_awareness_df.sum(axis = 0)\n",
        "awareness_top10 = wc_A.sort_values(ascending=False).head(10)\n",
        "bar_plot(awareness_top10.values, awareness_top10.index, 'Top 10 unigrams on Awareness','r') "
      ],
      "execution_count": 0,
      "outputs": [
        {
          "output_type": "display_data",
          "data": {
            "image/png": "[encoded data removed]",
            "text/plain": [
              "<Figure size 648x360 with 1 Axes>"
            ]
          },
          "metadata": {
            "tags": [],
            "needs_background": "light"
          }
        }
      ]
    },
    {
      "cell_type": "code",
      "metadata": {
        "id": "T2NPTicNP0xt",
        "colab_type": "code",
        "outputId": "e26dbea4-d94b-4d65-9ebb-5911515aa517",
        "colab": {
          "base_uri": "https://localhost:8080/",
          "height": 338
        }
      },
      "source": [
        "#Irrelevant Label\n",
        "wc_I = cvec_irrelevant_df.sum(axis = 0)\n",
        "irrelevant_top10 = wc_I.sort_values(ascending=False).head(10)\n",
        "bar_plot(irrelevant_top10.values, irrelevant_top10.index, 'Top 10 unigrams on Irrelevant','r')"
      ],
      "execution_count": 0,
      "outputs": [
        {
          "output_type": "display_data",
          "data": {
            "image/png": "[encoded data removed]",
            "text/plain": [
              "<Figure size 648x360 with 1 Axes>"
            ]
          },
          "metadata": {
            "tags": [],
            "needs_background": "light"
          }
        }
      ]
    },
    {
      "cell_type": "code",
      "metadata": {
        "id": "KgodMOdqRouy",
        "colab_type": "code",
        "outputId": "b83e2c97-a640-497e-c7fc-550296cac24b",
        "colab": {
          "base_uri": "https://localhost:8080/",
          "height": 338
        }
      },
      "source": [
        "#Report Label\n",
        "wc_R = cvec_report_df.sum(axis = 0)\n",
        "report_top10 = wc_R.sort_values(ascending=False).head(10)\n",
        "bar_plot(report_top10.values, report_top10.index, 'Top 10 unigrams on Reports','r')"
      ],
      "execution_count": 0,
      "outputs": [
        {
          "output_type": "display_data",
          "data": {
            "image/png": "[encoded data removed]",
            "text/plain": [
              "<Figure size 648x360 with 1 Axes>"
            ]
          },
          "metadata": {
            "tags": [],
            "needs_background": "light"
          }
        }
      ]
    },
    {
      "cell_type": "code",
      "metadata": {
        "id": "VxwwPQT9RpO0",
        "colab_type": "code",
        "outputId": "aea8c5ed-315c-4215-902e-ab8f0e3208e3",
        "colab": {
          "base_uri": "https://localhost:8080/",
          "height": 338
        }
      },
      "source": [
        "#Treatment Label\n",
        "wc_T = cvec_treatment_df.sum(axis = 0)\n",
        "treatment_top10 = wc_T.sort_values(ascending=False).head(10)\n",
        "bar_plot(treatment_top10.values, treatment_top10.index, 'Top 10 unigrams on Treatment','r')"
      ],
      "execution_count": 0,
      "outputs": [
        {
          "output_type": "display_data",
          "data": {
            "image/png": "[encoded data removed]",
            "text/plain": [
              "<Figure size 648x360 with 1 Axes>"
            ]
          },
          "metadata": {
            "tags": [],
            "needs_background": "light"
          }
        }
      ]
    },
    {
      "cell_type": "markdown",
      "metadata": {
        "id": "qTTkWXDqJ8RI",
        "colab_type": "text"
      },
      "source": [
        "### Common Unigrams between Top 10 in each label"
      ]
    },
    {
      "cell_type": "code",
      "metadata": {
        "id": "dJYeehlESLXA",
        "colab_type": "code",
        "outputId": "ae27002a-f83e-4f81-91e6-d78df98c50af",
        "colab": {
          "base_uri": "https://localhost:8080/",
          "height": 35
        }
      },
      "source": [
        "# Create list of unique words in top ten\n",
        "awareness_set = set(awareness_top10.index)\n",
        "irrelevant_set = set(irrelevant_top10.index)\n",
        "report_set = set(report_top10.index)\n",
        "treatment_set = set(treatment_top10.index)\n",
        "\n",
        "# Return common words\n",
        "common_unigrams = awareness_set.intersection(irrelevant_set.intersection(report_set.intersection(treatment_set)))\n",
        "common_unigrams"
      ],
      "execution_count": 0,
      "outputs": [
        {
          "output_type": "execute_result",
          "data": {
            "text/plain": [
              "{'coronavirus', 'covid'}"
            ]
          },
          "metadata": {
            "tags": []
          },
          "execution_count": 20
        }
      ]
    },
    {
      "cell_type": "markdown",
      "metadata": {
        "id": "8CYjqi7mB5Rq",
        "colab_type": "text"
      },
      "source": [
        "###**Ngram Range = (2,2)**\n",
        "\n",
        "*  For the Awareness label"
      ]
    },
    {
      "cell_type": "code",
      "metadata": {
        "colab_type": "code",
        "outputId": "262d5330-b45b-4f63-8398-1667f4dc552c",
        "id": "2O7x4UUOTxN0",
        "colab": {
          "base_uri": "https://localhost:8080/",
          "height": 35
        }
      },
      "source": [
        "mask_on = df['label'] == 0\n",
        "awareness_tweets = df[mask_on]['tweet']\n",
        "\n",
        "# Instantiate a CountVectorizer\n",
        "cv_awareness = CountVectorizer(stop_words = 'english', ngram_range=(2,2))\n",
        "\n",
        "# Fit and transform the vectorizer on our corpus\n",
        "cvec_awareness = cv_awareness.fit_transform(awareness_tweets)\n",
        "\n",
        "# Convert into a DataFrame\n",
        "cvec_awareness_df = pd.DataFrame(cvec_awareness.toarray(),\n",
        "                   columns=cv_awareness.get_feature_names())\n",
        "\n",
        "# Inspect head \n",
        "print(cvec_awareness_df.shape) "
      ],
      "execution_count": 0,
      "outputs": [
        {
          "output_type": "stream",
          "text": [
            "(357, 2070)\n"
          ],
          "name": "stdout"
        }
      ]
    },
    {
      "cell_type": "markdown",
      "metadata": {
        "id": "rwsH430RD2GL",
        "colab_type": "text"
      },
      "source": [
        "\n",
        "*  For the Irrelevant label\n"
      ]
    },
    {
      "cell_type": "code",
      "metadata": {
        "colab_type": "code",
        "outputId": "ee86f03f-81ce-4dbd-ebb8-ac64bca7d0d4",
        "id": "ioZhlh6VT4aU",
        "colab": {
          "base_uri": "https://localhost:8080/",
          "height": 35
        }
      },
      "source": [
        "mask_no = df['label'] == 1\n",
        "irrelevant_tweets = df[mask_no]['tweet']\n",
        "\n",
        "# Instantiate a CountVectorizer\n",
        "cv_irrelevant = CountVectorizer(stop_words = 'english', ngram_range=(2,2))\n",
        "\n",
        "# Fit and transform the vectorizer on our corpus\n",
        "cvec_irrelevant = cv_irrelevant.fit_transform(irrelevant_tweets)\n",
        "\n",
        "# Convert into a DataFrame\n",
        "cvec_irrelevant_df = pd.DataFrame(cvec_irrelevant.toarray(),\n",
        "                   columns=cv_irrelevant.get_feature_names())\n",
        "\n",
        "# Inspect head \n",
        "print(cvec_irrelevant_df.shape)\n"
      ],
      "execution_count": 0,
      "outputs": [
        {
          "output_type": "stream",
          "text": [
            "(427, 5867)\n"
          ],
          "name": "stdout"
        }
      ]
    },
    {
      "cell_type": "markdown",
      "metadata": {
        "colab_type": "text",
        "id": "chLmlVQFD8Dv"
      },
      "source": [
        "\n",
        "*  For the Report label\n"
      ]
    },
    {
      "cell_type": "code",
      "metadata": {
        "colab_type": "code",
        "outputId": "ec6d32a9-ae1f-44d8-bea6-c2971f420dd5",
        "id": "V8t-Xw_sT7sY",
        "colab": {
          "base_uri": "https://localhost:8080/",
          "height": 35
        }
      },
      "source": [
        "mask_no = df['label'] == 2\n",
        "report_tweets = df[mask_no]['tweet']\n",
        "\n",
        "# Instantiate a CountVectorizer\n",
        "cv_report = CountVectorizer(stop_words = 'english', ngram_range=(2,2))\n",
        "\n",
        "# Fit and transform the vectorizer on our corpus\n",
        "cvec_report = cv_report.fit_transform(report_tweets)\n",
        "\n",
        "# Convert into a DataFrame\n",
        "cvec_report_df = pd.DataFrame(cvec_report.toarray(),\n",
        "                   columns=cv_report.get_feature_names())\n",
        "\n",
        "# Inspect head \n",
        "print(cvec_report_df.shape)"
      ],
      "execution_count": 0,
      "outputs": [
        {
          "output_type": "stream",
          "text": [
            "(285, 4432)\n"
          ],
          "name": "stdout"
        }
      ]
    },
    {
      "cell_type": "markdown",
      "metadata": {
        "colab_type": "text",
        "id": "Vf2vLEJyECPE"
      },
      "source": [
        "\n",
        "*  For the Treatment label\n"
      ]
    },
    {
      "cell_type": "code",
      "metadata": {
        "colab_type": "code",
        "outputId": "5f53556f-7ad4-42ac-e5ce-51b12175a8fe",
        "id": "ZogUOLdyUEkn",
        "colab": {
          "base_uri": "https://localhost:8080/",
          "height": 35
        }
      },
      "source": [
        "mask_no = df['label'] == 3\n",
        "treatment_tweets = df[mask_no]['tweet']\n",
        "\n",
        "# Instantiate a CountVectorizer\n",
        "cv_treatment = CountVectorizer(stop_words = 'english', ngram_range=(2,2))\n",
        "\n",
        "# Fit and transform the vectorizer on our corpus\n",
        "cvec_treatment = cv_treatment.fit_transform(treatment_tweets)\n",
        "\n",
        "# Convert into a DataFrame\n",
        "cvec_treatment_df = pd.DataFrame(cvec_treatment.toarray(),\n",
        "                   columns=cv_treatment.get_feature_names())\n",
        "\n",
        "# Inspect head \n",
        "print(cvec_treatment_df.shape)"
      ],
      "execution_count": 0,
      "outputs": [
        {
          "output_type": "stream",
          "text": [
            "(250, 1217)\n"
          ],
          "name": "stdout"
        }
      ]
    },
    {
      "cell_type": "markdown",
      "metadata": {
        "colab_type": "text",
        "id": "PklGCvewEVq0"
      },
      "source": [
        "## Set up variables to figure out top 10 bigrams in Each label"
      ]
    },
    {
      "cell_type": "code",
      "metadata": {
        "colab_type": "code",
        "outputId": "3b1e81f4-dbd3-4900-e5a1-9075eb5e94ca",
        "id": "nMFWZL8lUgaS",
        "colab": {
          "base_uri": "https://localhost:8080/",
          "height": 338
        }
      },
      "source": [
        "# Awareness label\n",
        "wc_A = cvec_awareness_df.sum(axis = 0)\n",
        "awareness_top10 = wc_A.sort_values(ascending=False).head(10)\n",
        "bar_plot(awareness_top10.values, awareness_top10.index, 'Top 10 bigrams on Awareness','c') "
      ],
      "execution_count": 0,
      "outputs": [
        {
          "output_type": "display_data",
          "data": {
            "image/png": "[encoded data removed]",
            "text/plain": [
              "<Figure size 648x360 with 1 Axes>"
            ]
          },
          "metadata": {
            "tags": [],
            "needs_background": "light"
          }
        }
      ]
    },
    {
      "cell_type": "code",
      "metadata": {
        "id": "JQxjwlNrTnty",
        "colab_type": "code",
        "outputId": "7f892c7a-4ab0-424d-a79b-8d0c0444130f",
        "colab": {
          "base_uri": "https://localhost:8080/",
          "height": 338
        }
      },
      "source": [
        "#Irrelevant label\n",
        "wc_I = cvec_irrelevant_df.sum(axis = 0)\n",
        "irrelevant_top10 = wc_I.sort_values(ascending=False).head(10)\n",
        "bar_plot(irrelevant_top10.values, irrelevant_top10.index, 'Top 10 bigrams on Irrelevant','c')"
      ],
      "execution_count": 0,
      "outputs": [
        {
          "output_type": "display_data",
          "data": {
            "image/png": "[encoded data removed]",
            "text/plain": [
              "<Figure size 648x360 with 1 Axes>"
            ]
          },
          "metadata": {
            "tags": [],
            "needs_background": "light"
          }
        }
      ]
    },
    {
      "cell_type": "code",
      "metadata": {
        "id": "o4haIsBOUp3t",
        "colab_type": "code",
        "outputId": "5af1d06b-9f8c-447b-9ce6-c3aad38c705d",
        "colab": {
          "base_uri": "https://localhost:8080/",
          "height": 338
        }
      },
      "source": [
        "wc_R = cvec_report_df.sum(axis = 0)\n",
        "report_top10 = wc_R.sort_values(ascending=False).head(10)\n",
        "bar_plot(report_top10.values, report_top10.index, 'Top 10 bigrams on Reports','c')"
      ],
      "execution_count": 0,
      "outputs": [
        {
          "output_type": "display_data",
          "data": {
            "image/png": "[encoded data removed]",
            "text/plain": [
              "<Figure size 648x360 with 1 Axes>"
            ]
          },
          "metadata": {
            "tags": [],
            "needs_background": "light"
          }
        }
      ]
    },
    {
      "cell_type": "code",
      "metadata": {
        "id": "tV1lZST9UxKs",
        "colab_type": "code",
        "outputId": "ee4c5df2-5f5e-4277-ee72-71daa221bef1",
        "colab": {
          "base_uri": "https://localhost:8080/",
          "height": 338
        }
      },
      "source": [
        "# Treatment label\n",
        "wc_T = cvec_treatment_df.sum(axis = 0)\n",
        "treatment_top10 = wc_T.sort_values(ascending=False).head(10)\n",
        "bar_plot(treatment_top10.values, treatment_top10.index, 'Top 10 bigrams on Treatment','c')"
      ],
      "execution_count": 0,
      "outputs": [
        {
          "output_type": "display_data",
          "data": {
            "image/png": "[encoded data removed]",
            "text/plain": [
              "<Figure size 648x360 with 1 Axes>"
            ]
          },
          "metadata": {
            "tags": [],
            "needs_background": "light"
          }
        }
      ]
    },
    {
      "cell_type": "markdown",
      "metadata": {
        "colab_type": "text",
        "id": "vGCxwdnaCEo8"
      },
      "source": [
        "###Common bigrams within the top 10 in each label"
      ]
    },
    {
      "cell_type": "code",
      "metadata": {
        "id": "gkY7crpfVgXF",
        "colab_type": "code",
        "outputId": "0bc62fef-02ca-467f-d9bd-668a7c44f50a",
        "colab": {
          "base_uri": "https://localhost:8080/",
          "height": 35
        }
      },
      "source": [
        "awareness_set = set(awareness_top10.index)\n",
        "irrelevant_set = set(irrelevant_top10.index)\n",
        "report_set = set(report_top10.index)\n",
        "treatment_set = set(treatment_top10.index)\n",
        "# Return common words\n",
        "common_bigrams = awareness_set.intersection(irrelevant_set.intersection(report_set.intersection(treatment_set)))\n",
        "common_bigrams"
      ],
      "execution_count": 0,
      "outputs": [
        {
          "output_type": "execute_result",
          "data": {
            "text/plain": [
              "set()"
            ]
          },
          "metadata": {
            "tags": []
          },
          "execution_count": 29
        }
      ]
    },
    {
      "cell_type": "markdown",
      "metadata": {
        "id": "82CJZtW9J8Rr",
        "colab_type": "text"
      },
      "source": [
        "### Create custom stop_words list to include common frequent words, since they occur frequently in all labels"
      ]
    },
    {
      "cell_type": "code",
      "metadata": {
        "id": "h6MWGtXFVqEC",
        "colab_type": "code",
        "colab": {}
      },
      "source": [
        "custom = stop_words\n",
        "custom = list(custom)\n",
        "common_unigrams = list(common_unigrams)\n",
        "common_bigrams = list(common_bigrams)\n",
        "\n",
        "# Append unigrams to list \n",
        "for i in common_unigrams:\n",
        "    custom.append(i)\n",
        "    \n",
        "# Append bigrams to list \n",
        "for i in common_bigrams:\n",
        "    split_words = i.split(\" \")\n",
        "    for word in split_words:\n",
        "        custom.append(word)"
      ],
      "execution_count": 0,
      "outputs": []
    },
    {
      "cell_type": "markdown",
      "metadata": {
        "id": "EMRVN9BNGied",
        "colab_type": "text"
      },
      "source": [
        "#Modelling\n",
        "\n",
        "Conducting model-prep and using Pipeline and GridSearch to determine the most optimal model to run the data on. "
      ]
    },
    {
      "cell_type": "markdown",
      "metadata": {
        "id": "JTOi2nz7J8R0",
        "colab_type": "text"
      },
      "source": [
        "### Baseline Score"
      ]
    },
    {
      "cell_type": "code",
      "metadata": {
        "id": "t2iengtxVyUg",
        "colab_type": "code",
        "outputId": "856be602-9967-422d-fd74-a13c3505ae38",
        "colab": {
          "base_uri": "https://localhost:8080/",
          "height": 108
        }
      },
      "source": [
        "df['label'].value_counts(normalize=True)"
      ],
      "execution_count": 0,
      "outputs": [
        {
          "output_type": "execute_result",
          "data": {
            "text/plain": [
              "1    0.323730\n",
              "0    0.270660\n",
              "2    0.216073\n",
              "3    0.189538\n",
              "Name: label, dtype: float64"
            ]
          },
          "metadata": {
            "tags": []
          },
          "execution_count": 31
        }
      ]
    },
    {
      "cell_type": "markdown",
      "metadata": {
        "id": "we4pkJIhJ8R_",
        "colab_type": "text"
      },
      "source": [
        "### Setting X (predictor) and y (target) variables "
      ]
    },
    {
      "cell_type": "code",
      "metadata": {
        "id": "WusVBQ6GV4ds",
        "colab_type": "code",
        "colab": {}
      },
      "source": [
        "X = df['tweet']\n",
        "y = df['label']"
      ],
      "execution_count": 0,
      "outputs": []
    },
    {
      "cell_type": "code",
      "metadata": {
        "id": "9wkNTL6imH9D",
        "colab_type": "code",
        "outputId": "e1e73932-e935-46b1-c87e-79c3d7b32d41",
        "colab": {
          "base_uri": "https://localhost:8080/",
          "height": 35
        }
      },
      "source": [
        "df['label'].unique()"
      ],
      "execution_count": 0,
      "outputs": [
        {
          "output_type": "execute_result",
          "data": {
            "text/plain": [
              "array([0, 1, 2, 3])"
            ]
          },
          "metadata": {
            "tags": []
          },
          "execution_count": 33
        }
      ]
    },
    {
      "cell_type": "markdown",
      "metadata": {
        "id": "kd83JkqmJ8SF",
        "colab_type": "text"
      },
      "source": [
        "### Train/Test Split"
      ]
    },
    {
      "cell_type": "code",
      "metadata": {
        "id": "V7t2VxZ-WAqF",
        "colab_type": "code",
        "colab": {}
      },
      "source": [
        "X_train, X_test, y_train, y_test = train_test_split(X,y,random_state=420,stratify=y,test_size = 0.1)"
      ],
      "execution_count": 0,
      "outputs": []
    },
    {
      "cell_type": "markdown",
      "metadata": {
        "id": "bX3Rufb-yzN6",
        "colab_type": "text"
      },
      "source": [
        ""
      ]
    },
    {
      "cell_type": "markdown",
      "metadata": {
        "id": "Pr6scRpxJ8SL",
        "colab_type": "text"
      },
      "source": [
        "### Model 1: CountVectorizer & Logistic Regression "
      ]
    },
    {
      "cell_type": "code",
      "metadata": {
        "id": "DmkyHylrWD6E",
        "colab_type": "code",
        "outputId": "02231e55-3e9f-43db-c51f-af5b3f8412c4",
        "colab": {
          "base_uri": "https://localhost:8080/",
          "height": 235
        }
      },
      "source": [
        "pipe = Pipeline([('cvec', CountVectorizer()),    \n",
        "                 ('lr', LogisticRegression(solver='liblinear'))])\n",
        "\n",
        "# Tune GridSearchCV\n",
        "pipe_params = {'cvec__stop_words': [None, 'english', custom],\n",
        "               'cvec__ngram_range': [(1,1), (2,2), (1,3)],\n",
        "               'lr__C': [0.1, 1]}\n",
        "\n",
        "gs = GridSearchCV(pipe, param_grid=pipe_params, cv=10)\n",
        "gs.fit(X_train, y_train);\n",
        "\n",
        "y_pred = gs.predict(X_test)\n",
        "\n",
        "print('Accuracy %s' % accuracy_score(y_pred, y_test))\n",
        "print(classification_report(y_test, y_pred,target_names = my_tags))"
      ],
      "execution_count": 0,
      "outputs": [
        {
          "output_type": "stream",
          "text": [
            "Accuracy 0.8409090909090909\n",
            "              precision    recall  f1-score   support\n",
            "\n",
            "   Awareness       0.86      0.89      0.88        36\n",
            "  Irrelevant       0.76      0.86      0.80        43\n",
            "      Report       0.81      0.61      0.69        28\n",
            "   Treatment       1.00      1.00      1.00        25\n",
            "\n",
            "    accuracy                           0.84       132\n",
            "   macro avg       0.86      0.84      0.84       132\n",
            "weighted avg       0.84      0.84      0.84       132\n",
            "\n"
          ],
          "name": "stdout"
        }
      ]
    },
    {
      "cell_type": "markdown",
      "metadata": {
        "id": "BgAsP9OUJ8ST",
        "colab_type": "text"
      },
      "source": [
        "### Model 2: TfidfVectorize & Logistic Regression"
      ]
    },
    {
      "cell_type": "code",
      "metadata": {
        "id": "SoX4nK2LJ8SV",
        "colab_type": "code",
        "outputId": "e235f80b-b4c4-4f71-a772-16f2c97ddf75",
        "colab": {
          "base_uri": "https://localhost:8080/",
          "height": 235
        }
      },
      "source": [
        "pipe = Pipeline([('tvect', TfidfVectorizer()),    \n",
        "                 ('lr', LogisticRegression(solver='liblinear'))])\n",
        "\n",
        "# Tune GridSearchCV\n",
        "pipe_params = {'tvect__max_df': [.75, .98, 1.0],\n",
        "               'tvect__min_df': [2, 3, 5],\n",
        "               'tvect__ngram_range': [(1,1), (2,2), (1,3)],\n",
        "               'lr__C': [0.1,1]}\n",
        "\n",
        "gs = GridSearchCV(pipe, param_grid=pipe_params, cv=5)\n",
        "gs.fit(X_train, y_train);\n",
        "y_pred = gs.predict(X_test)\n",
        "\n",
        "print('Accuracy %s' % accuracy_score(y_pred, y_test))\n",
        "print(classification_report(y_test, y_pred,target_names = my_tags))"
      ],
      "execution_count": 0,
      "outputs": [
        {
          "output_type": "stream",
          "text": [
            "Accuracy 0.8636363636363636\n",
            "              precision    recall  f1-score   support\n",
            "\n",
            "   Awareness       0.92      0.92      0.92        36\n",
            "  Irrelevant       0.78      0.93      0.85        43\n",
            "      Report       0.81      0.61      0.69        28\n",
            "   Treatment       1.00      0.96      0.98        25\n",
            "\n",
            "    accuracy                           0.86       132\n",
            "   macro avg       0.88      0.85      0.86       132\n",
            "weighted avg       0.87      0.86      0.86       132\n",
            "\n"
          ],
          "name": "stdout"
        }
      ]
    },
    {
      "cell_type": "markdown",
      "metadata": {
        "id": "fxPC5ZuCQU77",
        "colab_type": "text"
      },
      "source": [
        "###Representation of the best model using Confusion Matrix"
      ]
    },
    {
      "cell_type": "code",
      "metadata": {
        "id": "6hekHz4LP5Me",
        "colab_type": "code",
        "outputId": "8494fb2e-09df-47c8-cca5-c269e1525c60",
        "colab": {
          "base_uri": "https://localhost:8080/",
          "height": 90
        }
      },
      "source": [
        "cnf_matrix = metrics.confusion_matrix(y_test, y_pred)\n",
        "cnf_matrix"
      ],
      "execution_count": 0,
      "outputs": [
        {
          "output_type": "execute_result",
          "data": {
            "text/plain": [
              "array([[33,  2,  1,  0],\n",
              "       [ 1, 40,  2,  0],\n",
              "       [ 2,  9, 17,  0],\n",
              "       [ 0,  0,  1, 24]])"
            ]
          },
          "metadata": {
            "tags": []
          },
          "execution_count": 37
        }
      ]
    },
    {
      "cell_type": "code",
      "metadata": {
        "id": "umjWsHwoQMXh",
        "colab_type": "code",
        "outputId": "33d85779-54be-4cdf-c3d6-11b7e590e2cf",
        "colab": {
          "base_uri": "https://localhost:8080/",
          "height": 339
        }
      },
      "source": [
        "class_names=['Awareness','Irrelevant', 'Report', 'Treatment'] \n",
        "\n",
        "# Set fig and axes \n",
        "fig, ax = plt.subplots()\n",
        "tick_marks = np.arange(len(class_names))\n",
        "plt.xticks(tick_marks, class_names)\n",
        "plt.yticks(tick_marks, class_names)\n",
        "\n",
        "# Create heatmap\n",
        "sns.heatmap(pd.DataFrame(cnf_matrix), annot=True, cmap=\"YlGnBu\" ,fmt='g')\n",
        "ax.xaxis.set_label_position(\"top\")\n",
        "plt.tight_layout()\n",
        "plt.title('Confusion matrix', y=1.1)\n",
        "plt.ylabel('Actual label')\n",
        "plt.xlabel('Predicted label')"
      ],
      "execution_count": 0,
      "outputs": [
        {
          "output_type": "execute_result",
          "data": {
            "text/plain": [
              "Text(0.5, 257.44, 'Predicted label')"
            ]
          },
          "metadata": {
            "tags": []
          },
          "execution_count": 38
        },
        {
          "output_type": "display_data",
          "data": {
            "image/png": "[encoded data removed]",
            "text/plain": [
              "<Figure size 432x288 with 2 Axes>"
            ]
          },
          "metadata": {
            "tags": [],
            "needs_background": "light"
          }
        }
      ]
    },
    {
      "cell_type": "markdown",
      "metadata": {
        "id": "aO3uMkHKJ8Sj",
        "colab_type": "text"
      },
      "source": [
        "### Model 3: TfidfVectorizer & MultinomialNB "
      ]
    },
    {
      "cell_type": "code",
      "metadata": {
        "id": "IAPBp21LWpSp",
        "colab_type": "code",
        "outputId": "6a70e234-5929-44f9-8594-e3e009c86043",
        "colab": {
          "base_uri": "https://localhost:8080/",
          "height": 235
        }
      },
      "source": [
        "pipe = Pipeline([('tvect', TfidfVectorizer()),    \n",
        "                 ('nb', MultinomialNB())])\n",
        "\n",
        "# Tune GridSearchCV\n",
        "pipe_params = {'tvect__max_df': [.75, .98],\n",
        "               'tvect__min_df': [4, 5],\n",
        "               'tvect__ngram_range': [(1,2), (1,3)],\n",
        "               'nb__alpha': [0.3, 1]}\n",
        "\n",
        "gs = GridSearchCV(pipe, param_grid=pipe_params, cv=5)\n",
        "gs.fit(X_train, y_train);\n",
        "\n",
        "y_pred = gs.predict(X_test)\n",
        "\n",
        "print('Accuracy %s' % accuracy_score(y_pred, y_test))\n",
        "print(classification_report(y_test, y_pred,target_names = my_tags))"
      ],
      "execution_count": 0,
      "outputs": [
        {
          "output_type": "stream",
          "text": [
            "Accuracy 0.7575757575757576\n",
            "              precision    recall  f1-score   support\n",
            "\n",
            "   Awareness       0.90      0.75      0.82        36\n",
            "  Irrelevant       0.67      0.86      0.76        43\n",
            "      Report       0.59      0.57      0.58        28\n",
            "   Treatment       1.00      0.80      0.89        25\n",
            "\n",
            "    accuracy                           0.76       132\n",
            "   macro avg       0.79      0.75      0.76       132\n",
            "weighted avg       0.78      0.76      0.76       132\n",
            "\n"
          ],
          "name": "stdout"
        }
      ]
    },
    {
      "cell_type": "markdown",
      "metadata": {
        "id": "9qhUxMkLJ8Sc",
        "colab_type": "text"
      },
      "source": [
        "### Model 4: CountVectorizer & MultinomialNB "
      ]
    },
    {
      "cell_type": "code",
      "metadata": {
        "id": "ERxCB1XbJ8Sd",
        "colab_type": "code",
        "outputId": "9c68cf56-6f20-4643-9e08-2063e4fc77b7",
        "colab": {
          "base_uri": "https://localhost:8080/",
          "height": 235
        }
      },
      "source": [
        "pipe = Pipeline([('cvec', CountVectorizer()),    \n",
        "                 ('nb', MultinomialNB())])\n",
        "\n",
        "# Tune GridSearchCV\n",
        "pipe_params = {'cvec__stop_words': [None, 'english', custom],\n",
        "               'cvec__ngram_range': [(1,3)],\n",
        "               'nb__alpha': [.4]}\n",
        "\n",
        "gs = GridSearchCV(pipe, param_grid=pipe_params, cv=3)\n",
        "gs.fit(X_train, y_train);\n",
        "y_pred = gs.predict(X_test)\n",
        "\n",
        "print('Accuracy %s' % accuracy_score(y_pred, y_test))\n",
        "print(classification_report(y_test, y_pred,target_names = my_tags))"
      ],
      "execution_count": 0,
      "outputs": [
        {
          "output_type": "stream",
          "text": [
            "Accuracy 0.7954545454545454\n",
            "              precision    recall  f1-score   support\n",
            "\n",
            "   Awareness       0.80      0.97      0.88        36\n",
            "  Irrelevant       0.81      0.67      0.73        43\n",
            "      Report       0.64      0.57      0.60        28\n",
            "   Treatment       0.93      1.00      0.96        25\n",
            "\n",
            "    accuracy                           0.80       132\n",
            "   macro avg       0.79      0.80      0.79       132\n",
            "weighted avg       0.79      0.80      0.79       132\n",
            "\n"
          ],
          "name": "stdout"
        }
      ]
    },
    {
      "cell_type": "markdown",
      "metadata": {
        "id": "pLhWt1waOdWr",
        "colab_type": "text"
      },
      "source": [
        "###Model 5: TfidVectoriser and SGDClassifier\n",
        "\n",
        "\n"
      ]
    },
    {
      "cell_type": "code",
      "metadata": {
        "id": "I8XKsv6kVI6_",
        "colab_type": "code",
        "outputId": "1c49d582-40aa-4e08-a3da-377d614a832f",
        "colab": {
          "base_uri": "https://localhost:8080/",
          "height": 235
        }
      },
      "source": [
        "from sklearn.linear_model import SGDClassifier\n",
        "from sklearn.feature_extraction.text import TfidfTransformer\n",
        "\n",
        "sgd = Pipeline([('vect', CountVectorizer()),\n",
        "                ('tfidf', TfidfTransformer()),\n",
        "                ('clf', SGDClassifier(loss='squared_loss', penalty='l2',alpha=1e-3, random_state=42, max_iter=10, tol=None)),\n",
        "               ])\n",
        "sgd.fit(X_train, y_train)\n",
        "\n",
        "y_pred = sgd.predict(X_test)\n",
        "\n",
        "print('Accuracy %s' % accuracy_score(y_pred, y_test))\n",
        "print(classification_report(y_test, y_pred,target_names = my_tags))"
      ],
      "execution_count": 0,
      "outputs": [
        {
          "output_type": "stream",
          "text": [
            "Accuracy 0.8257575757575758\n",
            "              precision    recall  f1-score   support\n",
            "\n",
            "   Awareness       0.85      0.92      0.88        36\n",
            "  Irrelevant       0.80      0.81      0.80        43\n",
            "      Report       0.70      0.57      0.63        28\n",
            "   Treatment       0.96      1.00      0.98        25\n",
            "\n",
            "    accuracy                           0.83       132\n",
            "   macro avg       0.82      0.83      0.82       132\n",
            "weighted avg       0.82      0.83      0.82       132\n",
            "\n"
          ],
          "name": "stdout"
        }
      ]
    },
    {
      "cell_type": "markdown",
      "metadata": {
        "id": "fjRi7Mq3OYyY",
        "colab_type": "text"
      },
      "source": [
        "###Model 6: Keras Sequential\n"
      ]
    },
    {
      "cell_type": "code",
      "metadata": {
        "id": "YtumRNQyVm9c",
        "colab_type": "code",
        "outputId": "c8d0681f-e12a-4392-f67e-3f6cffbdadaf",
        "colab": {
          "base_uri": "https://localhost:8080/",
          "height": 1000
        }
      },
      "source": [
        "import itertools\n",
        "import os\n",
        "\n",
        "import matplotlib.pyplot as plt\n",
        "import numpy as np\n",
        "import pandas as pd\n",
        "import tensorflow as tf\n",
        "\n",
        "from sklearn.preprocessing import LabelBinarizer, LabelEncoder\n",
        "from sklearn.metrics import confusion_matrix\n",
        "from sklearn.feature_extraction.text import TfidfVectorizer\n",
        "from sklearn import model_selection, naive_bayes, svm\n",
        "\n",
        "from tensorflow import keras\n",
        "from keras.models import Sequential\n",
        "from keras.layers import Dense, Activation, Dropout\n",
        "from keras.preprocessing import text, sequence\n",
        "from keras import utils\n",
        "\n",
        "max_words = 1000\n",
        "tokenize = text.Tokenizer(num_words=max_words, char_level=False)\n",
        "tokenize.fit_on_texts(X_train) # only fit on train\n",
        "X_train = tokenize.texts_to_matrix(X_train)\n",
        "X_test = tokenize.texts_to_matrix(X_test)\n",
        "\n",
        "encoder = LabelEncoder()\n",
        "encoder.fit(y_train)\n",
        "y_train = encoder.transform(y_train)\n",
        "y_test = encoder.transform(y_test)\n",
        "\n",
        "num_classes = np.max(y_train) + 1\n",
        "print(num_classes)\n",
        "y_train = utils.to_categorical(y_train, num_classes)\n",
        "y_test = utils.to_categorical(y_test, num_classes)\n",
        "\n",
        "batch_size = 100\n",
        "epochs = 25\n",
        "\n",
        "model = Sequential()\n",
        "model.add(Dense(512, input_shape=(max_words,)))\n",
        "model.add(Activation('relu'))\n",
        "model.add(Dropout(0.5))\n",
        "model.add(Dense(num_classes))\n",
        "model.add(Activation('softmax'))\n",
        "\n",
        "model.compile(loss='categorical_crossentropy',\n",
        "              optimizer='adam',\n",
        "              metrics=['accuracy', 'mse', 'mae', 'mape', 'msle' ])\n",
        "              \n",
        "history = model.fit(X_train, y_train,\n",
        "                    batch_size=batch_size,\n",
        "                    epochs=epochs,\n",
        "                    verbose=1,\n",
        "                    validation_split=0.2)\n",
        "\n",
        "score = model.evaluate(X_test, y_test,\n",
        "                       batch_size = batch_size, verbose=1)\n",
        "print('Test Accuracy:', score[1])"
      ],
      "execution_count": 0,
      "outputs": [
        {
          "output_type": "stream",
          "text": [
            "Using TensorFlow backend.\n"
          ],
          "name": "stderr"
        },
        {
          "output_type": "stream",
          "text": [
            "4\n",
            "Train on 949 samples, validate on 238 samples\n",
            "Epoch 1/25\n",
            "949/949 [==============================] - 0s 493us/step - loss: 1.3076 - accuracy: 0.3783 - mse: 0.1773 - mae: 0.3605 - mape: 180236640.0000 - msle: 0.0872 - val_loss: 1.1284 - val_accuracy: 0.6303 - val_mse: 0.1523 - val_mae: 0.3317 - val_mape: 165871552.0000 - val_msle: 0.0740\n",
            "Epoch 2/25\n",
            "949/949 [==============================] - 0s 128us/step - loss: 0.9921 - accuracy: 0.7218 - mse: 0.1324 - mae: 0.3040 - mape: 152006416.0000 - msle: 0.0640 - val_loss: 0.9024 - val_accuracy: 0.7689 - val_mse: 0.1185 - val_mae: 0.2827 - val_mape: 141366912.0000 - val_msle: 0.0571\n",
            "Epoch 3/25\n",
            "949/949 [==============================] - 0s 130us/step - loss: 0.7545 - accuracy: 0.8419 - mse: 0.0965 - mae: 0.2476 - mape: 123793896.0000 - msle: 0.0462 - val_loss: 0.7406 - val_accuracy: 0.8025 - val_mse: 0.0959 - val_mae: 0.2379 - val_mape: 118959248.0000 - val_msle: 0.0461\n",
            "Epoch 4/25\n",
            "949/949 [==============================] - 0s 126us/step - loss: 0.5763 - accuracy: 0.8820 - mse: 0.0710 - mae: 0.1984 - mape: 99176464.0000 - msle: 0.0339 - val_loss: 0.6285 - val_accuracy: 0.7983 - val_mse: 0.0817 - val_mae: 0.2030 - val_mape: 101482288.0000 - val_msle: 0.0394\n",
            "Epoch 5/25\n",
            "949/949 [==============================] - 0s 136us/step - loss: 0.4415 - accuracy: 0.9125 - mse: 0.0526 - mae: 0.1567 - mape: 78326488.0000 - msle: 0.0251 - val_loss: 0.5630 - val_accuracy: 0.7899 - val_mse: 0.0738 - val_mae: 0.1771 - val_mape: 88568232.0000 - val_msle: 0.0358\n",
            "Epoch 6/25\n",
            "949/949 [==============================] - 0s 130us/step - loss: 0.3418 - accuracy: 0.9305 - mse: 0.0394 - mae: 0.1249 - mape: 62446532.0000 - msle: 0.0189 - val_loss: 0.5190 - val_accuracy: 0.8067 - val_mse: 0.0684 - val_mae: 0.1586 - val_mape: 79300800.0000 - val_msle: 0.0332\n",
            "Epoch 7/25\n",
            "949/949 [==============================] - 0s 132us/step - loss: 0.2764 - accuracy: 0.9484 - mse: 0.0311 - mae: 0.1028 - mape: 51395088.0000 - msle: 0.0149 - val_loss: 0.4873 - val_accuracy: 0.8151 - val_mse: 0.0641 - val_mae: 0.1448 - val_mape: 72401840.0000 - val_msle: 0.0312\n",
            "Epoch 8/25\n",
            "949/949 [==============================] - 0s 138us/step - loss: 0.2167 - accuracy: 0.9715 - mse: 0.0230 - mae: 0.0835 - mape: 41734760.0000 - msle: 0.0111 - val_loss: 0.4710 - val_accuracy: 0.8235 - val_mse: 0.0616 - val_mae: 0.1350 - val_mape: 67516992.0000 - val_msle: 0.0301\n",
            "Epoch 9/25\n",
            "949/949 [==============================] - 0s 128us/step - loss: 0.1726 - accuracy: 0.9705 - mse: 0.0174 - mae: 0.0684 - mape: 34189348.0000 - msle: 0.0084 - val_loss: 0.4650 - val_accuracy: 0.8193 - val_mse: 0.0602 - val_mae: 0.1278 - val_mape: 63910776.0000 - val_msle: 0.0294\n",
            "Epoch 10/25\n",
            "949/949 [==============================] - 0s 129us/step - loss: 0.1433 - accuracy: 0.9789 - mse: 0.0137 - mae: 0.0577 - mape: 28858226.0000 - msle: 0.0066 - val_loss: 0.4544 - val_accuracy: 0.8235 - val_mse: 0.0589 - val_mae: 0.1217 - val_mape: 60859012.0000 - val_msle: 0.0288\n",
            "Epoch 11/25\n",
            "949/949 [==============================] - 0s 126us/step - loss: 0.1218 - accuracy: 0.9874 - mse: 0.0112 - mae: 0.0501 - mape: 25039426.0000 - msle: 0.0054 - val_loss: 0.4568 - val_accuracy: 0.8193 - val_mse: 0.0589 - val_mae: 0.1180 - val_mape: 58988928.0000 - val_msle: 0.0289\n",
            "Epoch 12/25\n",
            "949/949 [==============================] - 0s 131us/step - loss: 0.1017 - accuracy: 0.9884 - mse: 0.0088 - mae: 0.0423 - mape: 21159560.0000 - msle: 0.0043 - val_loss: 0.4634 - val_accuracy: 0.8151 - val_mse: 0.0590 - val_mae: 0.1147 - val_mape: 57361988.0000 - val_msle: 0.0289\n",
            "Epoch 13/25\n",
            "949/949 [==============================] - 0s 128us/step - loss: 0.0873 - accuracy: 0.9916 - mse: 0.0072 - mae: 0.0367 - mape: 18355088.0000 - msle: 0.0035 - val_loss: 0.4669 - val_accuracy: 0.8235 - val_mse: 0.0591 - val_mae: 0.1119 - val_mape: 55940484.0000 - val_msle: 0.0290\n",
            "Epoch 14/25\n",
            "949/949 [==============================] - 0s 126us/step - loss: 0.0721 - accuracy: 0.9958 - mse: 0.0055 - mae: 0.0308 - mape: 15387288.0000 - msle: 0.0027 - val_loss: 0.4700 - val_accuracy: 0.8193 - val_mse: 0.0593 - val_mae: 0.1095 - val_mape: 54758724.0000 - val_msle: 0.0291\n",
            "Epoch 15/25\n",
            "949/949 [==============================] - 0s 130us/step - loss: 0.0609 - accuracy: 0.9979 - mse: 0.0042 - mae: 0.0266 - mape: 13293248.0000 - msle: 0.0021 - val_loss: 0.4796 - val_accuracy: 0.8193 - val_mse: 0.0600 - val_mae: 0.1081 - val_mape: 54031720.0000 - val_msle: 0.0294\n",
            "Epoch 16/25\n",
            "949/949 [==============================] - 0s 133us/step - loss: 0.0534 - accuracy: 0.9968 - mse: 0.0035 - mae: 0.0235 - mape: 11733951.0000 - msle: 0.0017 - val_loss: 0.4855 - val_accuracy: 0.8235 - val_mse: 0.0604 - val_mae: 0.1068 - val_mape: 53396512.0000 - val_msle: 0.0296\n",
            "Epoch 17/25\n",
            "949/949 [==============================] - 0s 133us/step - loss: 0.0481 - accuracy: 0.9979 - mse: 0.0031 - mae: 0.0212 - mape: 10605757.0000 - msle: 0.0015 - val_loss: 0.4933 - val_accuracy: 0.8193 - val_mse: 0.0611 - val_mae: 0.1056 - val_mape: 52781884.0000 - val_msle: 0.0299\n",
            "Epoch 18/25\n",
            "949/949 [==============================] - 0s 131us/step - loss: 0.0422 - accuracy: 0.9979 - mse: 0.0026 - mae: 0.0187 - mape: 9374446.0000 - msle: 0.0013 - val_loss: 0.5018 - val_accuracy: 0.8151 - val_mse: 0.0617 - val_mae: 0.1043 - val_mape: 52126468.0000 - val_msle: 0.0302\n",
            "Epoch 19/25\n",
            "949/949 [==============================] - 0s 125us/step - loss: 0.0360 - accuracy: 0.9968 - mse: 0.0021 - mae: 0.0162 - mape: 8104416.5000 - msle: 0.0010 - val_loss: 0.5020 - val_accuracy: 0.8277 - val_mse: 0.0615 - val_mae: 0.1030 - val_mape: 51486544.0000 - val_msle: 0.0301\n",
            "Epoch 20/25\n",
            "949/949 [==============================] - 0s 125us/step - loss: 0.0333 - accuracy: 1.0000 - mse: 0.0018 - mae: 0.0152 - mape: 7583298.0000 - msle: 8.8876e-04 - val_loss: 0.5073 - val_accuracy: 0.8277 - val_mse: 0.0618 - val_mae: 0.1023 - val_mape: 51161340.0000 - val_msle: 0.0303\n",
            "Epoch 21/25\n",
            "949/949 [==============================] - 0s 130us/step - loss: 0.0304 - accuracy: 0.9989 - mse: 0.0017 - mae: 0.0138 - mape: 6924387.5000 - msle: 8.2826e-04 - val_loss: 0.5201 - val_accuracy: 0.8235 - val_mse: 0.0625 - val_mae: 0.1023 - val_mape: 51144580.0000 - val_msle: 0.0306\n",
            "Epoch 22/25\n",
            "949/949 [==============================] - 0s 128us/step - loss: 0.0276 - accuracy: 0.9989 - mse: 0.0014 - mae: 0.0127 - mape: 6327108.0000 - msle: 6.7401e-04 - val_loss: 0.5293 - val_accuracy: 0.8193 - val_mse: 0.0630 - val_mae: 0.1022 - val_mape: 51076292.0000 - val_msle: 0.0309\n",
            "Epoch 23/25\n",
            "949/949 [==============================] - 0s 128us/step - loss: 0.0250 - accuracy: 0.9989 - mse: 0.0013 - mae: 0.0115 - mape: 5734670.0000 - msle: 6.2605e-04 - val_loss: 0.5340 - val_accuracy: 0.8235 - val_mse: 0.0632 - val_mae: 0.1018 - val_mape: 50904272.0000 - val_msle: 0.0310\n",
            "Epoch 24/25\n",
            "949/949 [==============================] - 0s 128us/step - loss: 0.0214 - accuracy: 1.0000 - mse: 9.2552e-04 - mae: 0.0100 - mape: 4975029.5000 - msle: 4.5500e-04 - val_loss: 0.5417 - val_accuracy: 0.8193 - val_mse: 0.0638 - val_mae: 0.1013 - val_mape: 50667848.0000 - val_msle: 0.0312\n",
            "Epoch 25/25\n",
            "949/949 [==============================] - 0s 135us/step - loss: 0.0214 - accuracy: 0.9989 - mse: 0.0010 - mae: 0.0098 - mape: 4908161.5000 - msle: 5.0887e-04 - val_loss: 0.5473 - val_accuracy: 0.8193 - val_mse: 0.0642 - val_mae: 0.1008 - val_mape: 50413696.0000 - val_msle: 0.0314\n",
            "132/132 [==============================] - 0s 76us/step\n",
            "Test Accuracy: 0.7954545617103577\n"
          ],
          "name": "stdout"
        }
      ]
    }
  ]
}